{
 "cells": [
  {
   "cell_type": "code",
   "execution_count": 35,
   "metadata": {},
   "outputs": [],
   "source": [
    "def solution(s):\n",
    "    dict = {}\n",
    "    en = ['zero','one','two','three','four','five','six','seven','eight','nine']\n",
    "    for i in range(10):\n",
    "        dict[en[i]] = i\n",
    "    result = ''\n",
    "    eng = ''\n",
    "    for i in s:\n",
    "        if i.isdigit():\n",
    "            result = result + i\n",
    "        elif i.isalpha():\n",
    "            eng = eng + i\n",
    "            if eng in dict.keys():\n",
    "                result = result + str(dict[eng])\n",
    "                eng = ''\n",
    "    return int(result)"
   ]
  },
  {
   "cell_type": "code",
   "execution_count": 36,
   "metadata": {},
   "outputs": [
    {
     "data": {
      "text/plain": [
       "1478"
      ]
     },
     "execution_count": 36,
     "metadata": {},
     "output_type": "execute_result"
    }
   ],
   "source": [
    "s = \"one4seveneight\"\n",
    "solution(s)"
   ]
  },
  {
   "cell_type": "code",
   "execution_count": null,
   "metadata": {},
   "outputs": [],
   "source": []
  }
 ],
 "metadata": {
  "kernelspec": {
   "display_name": "Python 3",
   "language": "python",
   "name": "python3"
  },
  "language_info": {
   "codemirror_mode": {
    "name": "ipython",
    "version": 3
   },
   "file_extension": ".py",
   "mimetype": "text/x-python",
   "name": "python",
   "nbconvert_exporter": "python",
   "pygments_lexer": "ipython3",
   "version": "3.8.5"
  }
 },
 "nbformat": 4,
 "nbformat_minor": 4
}
