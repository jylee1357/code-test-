{
 "cells": [
  {
   "cell_type": "code",
   "execution_count": 29,
   "metadata": {},
   "outputs": [],
   "source": [
    "#June 19 (신규 아이디 추천)\n",
    "import re\n",
    "\n",
    "def solution(new_id):\n",
    "    #1단계\n",
    "    new_id = new_id.lower()\n",
    "    \n",
    "    #2단계\n",
    "    answer = ''\n",
    "    for word in new_id:\n",
    "        if word.isalnum() or word in '-_.':\n",
    "            answer += word\n",
    "    \n",
    "    #3단계\n",
    "    while answer.count('..') >= 1:\n",
    "        answer = answer.replace('..','.')\n",
    "    \n",
    "    #4단계\n",
    "    answer = answer[1:] if answer[0] == '.' and len(answer) > 1 else answer\n",
    "    answer = answer[:-1] if answer[-1] == '.' else answer\n",
    "    \n",
    "    #5단계\n",
    "    if any(c.isalpha() for c in answer) == False:\n",
    "        answer = re.sub(r\"[^a-zA-Z0-9]\", \"a\", answer) \n",
    " \n",
    "    #6단계\n",
    "    if len(answer) >= 16:\n",
    "        answer = answer[:15]\n",
    "        if answer[-1] == '.':\n",
    "            answer = answer[:-1]\n",
    "    \n",
    "    #7단계\n",
    "    if len(answer) <= 3:\n",
    "        answer = answer + answer[-1] * (3-len(answer))\n",
    "\n",
    "    return answer\n",
    "\n",
    "#6단계 new_id의 길이가 16자 이상이면, new_id의 첫 15개의 문자를 제외한 나머지 문자들을 모두 제거합니다.\n",
    "#7단계 new_id의 길이가 2자 이하라면, new_id의 마지막 문자를 new_id의 길이가 3이 될 때까지 반복해서 끝에 붙입니다."
   ]
  },
  {
   "cell_type": "code",
   "execution_count": 26,
   "metadata": {},
   "outputs": [
    {
     "data": {
      "text/plain": [
       "'='"
      ]
     },
     "execution_count": 26,
     "metadata": {},
     "output_type": "execute_result"
    }
   ],
   "source": [
    "new_id[-1]"
   ]
  },
  {
   "cell_type": "code",
   "execution_count": null,
   "metadata": {},
   "outputs": [],
   "source": [
    "new_id.isalpha()"
   ]
  },
  {
   "cell_type": "code",
   "execution_count": null,
   "metadata": {},
   "outputs": [],
   "source": [
    "if any(c.isalpha() for c in new_id) == False:\n",
    "        new_id = re.sub(r\"[^a-zA-Z0-9]\", \"\", new_id) "
   ]
  },
  {
   "cell_type": "code",
   "execution_count": null,
   "metadata": {},
   "outputs": [],
   "source": [
    "def func(new_id):\n",
    "    if any(c.isalpha() for c in new_id) == False:\n",
    "        new_id = re.sub(r\"[^a-zA-Z0-9]\", \"a\", new_id) \n",
    "    return new_id"
   ]
  },
  {
   "cell_type": "code",
   "execution_count": null,
   "metadata": {},
   "outputs": [],
   "source": [
    "func(new_id)"
   ]
  },
  {
   "cell_type": "code",
   "execution_count": null,
   "metadata": {},
   "outputs": [],
   "source": [
    "new_id[:-1]"
   ]
  },
  {
   "cell_type": "code",
   "execution_count": null,
   "metadata": {},
   "outputs": [],
   "source": [
    "new_id = new_id[:15]"
   ]
  },
  {
   "cell_type": "code",
   "execution_count": null,
   "metadata": {},
   "outputs": [],
   "source": [
    "new_id"
   ]
  },
  {
   "cell_type": "code",
   "execution_count": null,
   "metadata": {},
   "outputs": [],
   "source": [
    "new_id2 = 'bat.y.abcdefghijkl'"
   ]
  },
  {
   "cell_type": "code",
   "execution_count": null,
   "metadata": {},
   "outputs": [],
   "source": [
    "new_id2[:15]"
   ]
  },
  {
   "cell_type": "code",
   "execution_count": null,
   "metadata": {},
   "outputs": [],
   "source": [
    "new_id2 = '=.='\n",
    "any(c.isalpha() for c in new_id2)"
   ]
  },
  {
   "cell_type": "code",
   "execution_count": null,
   "metadata": {},
   "outputs": [],
   "source": [
    "len(new_id)"
   ]
  },
  {
   "cell_type": "code",
   "execution_count": null,
   "metadata": {},
   "outputs": [],
   "source": [
    "new_id[26]"
   ]
  },
  {
   "cell_type": "code",
   "execution_count": null,
   "metadata": {},
   "outputs": [],
   "source": [
    "new_id[0].replace('.','')"
   ]
  },
  {
   "cell_type": "code",
   "execution_count": null,
   "metadata": {},
   "outputs": [],
   "source": [
    "for letters in new_id:\n",
    "         alphabet = ['a', 'b', 'c', 'd', 'e', 'f', 'g', 'h', 'i', 'j', 'k', 'l', 'm', \n",
    "                     'n', 'o', 'p', 'q', 'r', 's', 't', 'u', 'v', 'w', 'x', 'y', 'z']"
   ]
  },
  {
   "cell_type": "code",
   "execution_count": null,
   "metadata": {},
   "outputs": [],
   "source": [
    "new_id = '=.='\n",
    "\n",
    "import re\n",
    "s1_new = re.sub(r\"[^a-zA-Z0-9]\", \"a\", new_id)\n",
    "s1_new"
   ]
  },
  {
   "cell_type": "code",
   "execution_count": null,
   "metadata": {},
   "outputs": [],
   "source": []
  },
  {
   "cell_type": "code",
   "execution_count": null,
   "metadata": {},
   "outputs": [],
   "source": []
  }
 ],
 "metadata": {
  "kernelspec": {
   "display_name": "Python 3",
   "language": "python",
   "name": "python3"
  },
  "language_info": {
   "codemirror_mode": {
    "name": "ipython",
    "version": 3
   },
   "file_extension": ".py",
   "mimetype": "text/x-python",
   "name": "python",
   "nbconvert_exporter": "python",
   "pygments_lexer": "ipython3",
   "version": "3.8.5"
  }
 },
 "nbformat": 4,
 "nbformat_minor": 4
}
