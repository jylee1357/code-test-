{
 "cells": [
  {
   "cell_type": "code",
   "execution_count": 62,
   "metadata": {},
   "outputs": [],
   "source": [
    "def solution(numbers, hand):\n",
    "    answer = ''\n",
    "    # 키패드 좌표료 변경\n",
    "    dic = {1: [0, 0], 2: [0, 1], 3: [0, 2],\n",
    "           4: [1, 0], 5: [1, 1], 6: [1, 2],\n",
    "           7: [2, 0], 8: [2, 1], 9: [2, 2],\n",
    "           '*':[3, 0], 0: [3, 1], '#': [3, 2]}\n",
    "    # 시작 위치\n",
    "    left_s = dic['*']\n",
    "    right_s = dic['#']\n",
    "    for i in numbers:\n",
    "        now = dic[i]\n",
    "        # 1, 4, 7을 누르는 경우 무조건 왼손\n",
    "        if i in [1, 4, 7]:\n",
    "            answer += 'L'\n",
    "            left_s = now\n",
    "        \n",
    "        elif i in [3,6,9]:\n",
    "            answer += 'R'\n",
    "            right_s = now\n",
    "            \n",
    "        else:\n",
    "            left_d = 0\n",
    "            right_d = 0\n",
    "            \n",
    "            for a,b,c in zip(left_s, right_s, now):\n",
    "                left_d += abs(a-c)\n",
    "                right_d += abs(b-c)\n",
    "                \n",
    "                if left_d > right_d:\n",
    "                    answer += 'R'\n",
    "                    right_s = now\n",
    "                \n",
    "                elif right_d > left_d:\n",
    "                    answer += 'L'\n",
    "                    left_s = now\n",
    "                    \n",
    "                else:\n",
    "                    if hand == 'right':\n",
    "                        answer += 'R'\n",
    "                        right_s = now\n",
    "                    else:\n",
    "                        answer += 'L'\n",
    "                        left_s = now\n",
    "    return answer"
   ]
  },
  {
   "cell_type": "code",
   "execution_count": 63,
   "metadata": {},
   "outputs": [
    {
     "data": {
      "text/plain": [
       "'LRLLLLLRRLLLRRLL'"
      ]
     },
     "execution_count": 63,
     "metadata": {},
     "output_type": "execute_result"
    }
   ],
   "source": [
    "numbers = [1, 3, 4, 5, 8, 2, 1, 4, 5, 9, 5]\n",
    "hand = \"right\"\n",
    "solution(numbers,hand)"
   ]
  },
  {
   "cell_type": "code",
   "execution_count": 36,
   "metadata": {},
   "outputs": [
    {
     "data": {
      "text/plain": [
       "[3, 0]"
      ]
     },
     "execution_count": 36,
     "metadata": {},
     "output_type": "execute_result"
    }
   ],
   "source": [
    "dic = {1: [0, 0], 2: [0, 1], 3: [0, 2],\n",
    "           4: [1, 0], 5: [1, 1], 6: [1, 2],\n",
    "           7: [2, 0], 8: [2, 1], 9: [2, 2],\n",
    "           '*':[3, 0], 0: [3, 1], '#': [3, 2]}\n",
    "dic['*']"
   ]
  },
  {
   "cell_type": "code",
   "execution_count": null,
   "metadata": {},
   "outputs": [],
   "source": [
    "#2,5,8,0이 나왔을때\n",
    "#우선 2,5,8,0을 기준으로 각각의 위치를 구한다\n",
    "#그래서 case1: L>R --> R\n",
    "# case2: R>L --> L\n",
    "# 둘이 똑같으면 hand 기준으로 return"
   ]
  },
  {
   "cell_type": "code",
   "execution_count": 28,
   "metadata": {},
   "outputs": [
    {
     "data": {
      "text/plain": [
       "'LRLLL'"
      ]
     },
     "execution_count": 28,
     "metadata": {},
     "output_type": "execute_result"
    }
   ],
   "source": [
    "solution([1,6,4,5,8,7],'right')"
   ]
  },
  {
   "cell_type": "code",
   "execution_count": 22,
   "metadata": {},
   "outputs": [],
   "source": [
    "digits = [1,5,6,4,7]"
   ]
  },
  {
   "cell_type": "code",
   "execution_count": 23,
   "metadata": {},
   "outputs": [
    {
     "data": {
      "text/plain": [
       "1"
      ]
     },
     "execution_count": 23,
     "metadata": {},
     "output_type": "execute_result"
    }
   ],
   "source": [
    "digits[0]"
   ]
  },
  {
   "cell_type": "code",
   "execution_count": 6,
   "metadata": {},
   "outputs": [
    {
     "data": {
      "text/plain": [
       "1"
      ]
     },
     "execution_count": 6,
     "metadata": {},
     "output_type": "execute_result"
    }
   ],
   "source": [
    "numbers = [1,4,7]\n",
    "numbers[0]"
   ]
  },
  {
   "cell_type": "code",
   "execution_count": 7,
   "metadata": {},
   "outputs": [
    {
     "data": {
      "text/plain": [
       "3"
      ]
     },
     "execution_count": 7,
     "metadata": {},
     "output_type": "execute_result"
    }
   ],
   "source": [
    "len(numbers)"
   ]
  },
  {
   "cell_type": "code",
   "execution_count": 20,
   "metadata": {},
   "outputs": [
    {
     "ename": "SyntaxError",
     "evalue": "EOL while scanning string literal (<ipython-input-20-70574cec3d93>, line 1)",
     "output_type": "error",
     "traceback": [
      "\u001b[0;36m  File \u001b[0;32m\"<ipython-input-20-70574cec3d93>\"\u001b[0;36m, line \u001b[0;32m1\u001b[0m\n\u001b[0;31m    '가운데 열의 4개의 숫자 2, 5, 8, 0을 입력할 때는 두 엄지손가락의 현재 키패드의 위치에서 더 가까운 엄지손가락을 사용합니다.\u001b[0m\n\u001b[0m                                                                               ^\u001b[0m\n\u001b[0;31mSyntaxError\u001b[0m\u001b[0;31m:\u001b[0m EOL while scanning string literal\n"
     ]
    }
   ],
   "source": [
    "#엄지손가락은 상하좌우 4가지 방향으로만 이동할 수 있으며 키패드 이동 한 칸은 거리로 1에 해당합니다.\n",
    "#왼쪽 열의 3개의 숫자 1, 4, 7을 입력할 때는 왼손 엄지손가락을 사용합니다.\n",
    "#오른쪽 열의 3개의 숫자 3, 6, 9를 입력할 때는 오른손 엄지손가락을 사용합니다.\n",
    "#가운데 열의 4개의 숫자 2, 5, 8, 0을 입력할 때는 두 엄지손가락의 현재 키패드의 위치에서 더 가까운 엄지손가락을 사용합니다.\n",
    "#4-1. 만약 두 엄지손가락의 거리가 같다면, 오른손잡이는 오른손 엄지손가락, 왼손잡이는 왼손 엄지손가락을 사용합니다."
   ]
  },
  {
   "cell_type": "code",
   "execution_count": null,
   "metadata": {},
   "outputs": [],
   "source": []
  }
 ],
 "metadata": {
  "kernelspec": {
   "display_name": "Python 3",
   "language": "python",
   "name": "python3"
  },
  "language_info": {
   "codemirror_mode": {
    "name": "ipython",
    "version": 3
   },
   "file_extension": ".py",
   "mimetype": "text/x-python",
   "name": "python",
   "nbconvert_exporter": "python",
   "pygments_lexer": "ipython3",
   "version": "3.8.5"
  }
 },
 "nbformat": 4,
 "nbformat_minor": 4
}
